{
  "nbformat": 4,
  "nbformat_minor": 0,
  "metadata": {
    "colab": {
      "name": "Descriptive_Statistics_Methods.ipynb",
      "provenance": [],
      "collapsed_sections": []
    },
    "kernelspec": {
      "name": "python3",
      "display_name": "Python 3"
    }
  },
  "cells": [
    {
      "cell_type": "code",
      "metadata": {
        "id": "jR0bgOsOE3AG",
        "colab_type": "code",
        "colab": {}
      },
      "source": [
        "from google.colab import drive\n",
        "drive.mount('/content/drive')\n",
        "DATA_PATH = \"/content/drive/My Drive\" "
      ],
      "execution_count": 0,
      "outputs": []
    },
    {
      "cell_type": "code",
      "metadata": {
        "id": "VMDRedZ0T7hO",
        "colab_type": "code",
        "colab": {}
      },
      "source": [
        "!pip install contextily\n",
        "!pip install geopandas\n",
        "import pandas as pd\n",
        "import geopandas as gpd\n",
        "from datetime import datetime, timezone\n",
        "from shapely.geometry import Point\n",
        "import networkx as nx\n",
        "import matplotlib.pyplot as plt\n",
        "import numpy as np\n",
        "import contextily as ctx\n",
        "import matplotlib.pyplot as plt\n",
        "import matplotlib.gridspec as gridspec"
      ],
      "execution_count": 0,
      "outputs": []
    },
    {
      "cell_type": "markdown",
      "metadata": {
        "id": "fjr8nL9VOFiC",
        "colab_type": "text"
      },
      "source": [
        "Import data"
      ]
    },
    {
      "cell_type": "code",
      "metadata": {
        "id": "t0-MCwYbOOa9",
        "colab_type": "code",
        "colab": {}
      },
      "source": [
        "combined_L_dublin =  pd.read_csv(DATA_PATH + \"/dublin/network_combined.csv\", sep = \";\")\n",
        "temporal_dublin = pd.read_csv(DATA_PATH + \"/dublin/network_temporal_day.csv\", sep = \";\")\n",
        "combined_L_adelaide =  pd.read_csv(DATA_PATH + \"/adelaide/network_combined.csv\", sep = \";\")\n",
        "temporal_adelaide = pd.read_csv(DATA_PATH + \"/adelaide/network_temporal_day.csv\", sep = \";\")\n",
        "combined_L_rome =  pd.read_csv(DATA_PATH + \"/rome/network_combined.csv\", sep = \";\")\n",
        "temporal_rome = pd.read_csv(DATA_PATH + \"/rome/network_temporal_day.csv\", sep = \";\")\n",
        "combined_L_adelaide89 = pd.read_csv(DATA_PATH + \"/adelaide/combined_L_8am_9am.csv\")\n",
        "combined_L_adelaide1112 = pd.read_csv(DATA_PATH + \"/adelaide/combined_L_11am_12am.csv\")\n",
        "combined_L_dublin89 = pd.read_csv(DATA_PATH + \"/dublin/combined_L_8am_9am.csv\")\n",
        "combined_L_dublin1112 = pd.read_csv(DATA_PATH + \"/dublin/combined_L_11am_12am.csv\")\n",
        "combined_L_rome89 = pd.read_csv(DATA_PATH + \"/rome/combined_L_8am_9am.csv\")\n",
        "combined_L_rome1112 = pd.read_csv(DATA_PATH + \"/rome/combined_L_11am_12am.csv\")\n",
        "combined_P_rome1112_sn = pd.read_csv(DATA_PATH + \"/rome/descriptive_P1112_rome_list_sn.csv\")\n",
        "combined_P_rome1112_sn_weight = pd.read_csv(DATA_PATH + \"/rome/combined1112_P_sn_weight.csv\")\n",
        "combined_P_rome89_sn_weight = pd.read_csv(DATA_PATH + \"/rome/combined89_P_sn_weight.csv\")\n",
        "combined_P_adelaide89_sn_weight = pd.read_csv(DATA_PATH + \"/adelaide/combined89_P_sn_weight.csv\")\n",
        "combined_P_adelaide1112_sn_weight = pd.read_csv(DATA_PATH + \"/adelaide/combined1112_P_sn_weight.csv\")\n",
        "combined_P_dublin89_sn_weight = pd.read_csv(DATA_PATH + \"/dublin/combined89_P_sn_weight.csv\")\n",
        "combined_P_dublin1112_sn_weight = pd.read_csv(DATA_PATH + \"/dublin/combined1112_P_sn_weight.csv\")\n",
        "combined_L_rome89_graph_sn = nx.read_gpickle(DATA_PATH + \"/rome/combined89_L_graph_sn\")\n",
        "combined_L_rome1112_graph_sn = nx.read_gpickle(DATA_PATH + \"/rome/combined1112_L_graph_sn\")\n",
        "combined_L_dublin89_graph_sn = nx.read_gpickle(DATA_PATH + \"/dublin/combined89_L_graph_sn\")\n",
        "combined_L_dublin1112_graph_sn = nx.read_gpickle(DATA_PATH + \"/dublin/combined1112_L_graph_sn\")\n",
        "combined_L_adelaide89_graph_sn = nx.read_gpickle(DATA_PATH + \"/adelaide/combined89_L_graph_sn\")\n",
        "combined_L_adelaide1112_graph_sn = nx.read_gpickle(DATA_PATH + \"/adelaide/combined1112_L_graph_sn\")\n",
        "\n",
        "\n",
        "rome_1112_gtc = pd.read_csv(DATA_PATH + \"/dublin1112_final_gtc.csv\", sep=\",\")\n",
        "r_routes_geojson = gpd.read_file(DATA_PATH + '/rome/routes.geojson') #Public transport routes in GeoJSON format.\n",
        "r_sections_geojson = gpd.read_file(DATA_PATH + '/rome/sections.geojson') #Each stop-to-stop section in GeoJSON format.\n",
        "r_stops_geojson = gpd.read_file(DATA_PATH + '/rome/stops.geojson') #Information on the nodes in GeoJSON format.\n",
        "a_routes_geojson = gpd.read_file(DATA_PATH + '/adelaide/routes.geojson') #Public transport routes in GeoJSON format.\n",
        "a_sections_geojson = gpd.read_file(DATA_PATH + '/adelaide/sections.geojson') #Each stop-to-stop section in GeoJSON format.\n",
        "a_stops_geojson = gpd.read_file(DATA_PATH + '/adelaide/stops.geojson') #Information on the nodes in GeoJSON format.\n",
        "d_routes_geojson = gpd.read_file(DATA_PATH + '/dublin/routes.geojson') #Public transport routes in GeoJSON format.\n",
        "d_sections_geojson = gpd.read_file(DATA_PATH + '/dublin/sections.geojson') #Each stop-to-stop section in GeoJSON format.\n",
        "d_stops_geojson = gpd.read_file(DATA_PATH + '/dublin/stops.geojson') #Information on the nodes in GeoJSON format."
      ],
      "execution_count": 0,
      "outputs": []
    },
    {
      "cell_type": "markdown",
      "metadata": {
        "id": "k-XipSgPpy7M",
        "colab_type": "text"
      },
      "source": [
        "Example: table 1"
      ]
    },
    {
      "cell_type": "code",
      "metadata": {
        "id": "0Bm_DCiApz4c",
        "colab_type": "code",
        "colab": {}
      },
      "source": [
        "temporal_dublin"
      ],
      "execution_count": 0,
      "outputs": []
    },
    {
      "cell_type": "markdown",
      "metadata": {
        "id": "uKALxqmaUI5V",
        "colab_type": "text"
      },
      "source": [
        "Table 2: Number of connections"
      ]
    },
    {
      "cell_type": "code",
      "metadata": {
        "id": "1Hi-DVBtUKbv",
        "colab_type": "code",
        "colab": {}
      },
      "source": [
        "temporal_dublin[\"dep_time_ut\"] = pd.to_datetime(temporal_dublin[\"dep_time_ut\"], unit = \"s\") #transforms Unix timestamp to datetime\n",
        "temporal_dublin[\"arr_time_ut\"] = pd.to_datetime(temporal_dublin[\"arr_time_ut\"], unit = \"s\") #ransforms Unix timestamp to  datetime\n",
        "connections_dublin89 = len(temporal_dublin[(temporal_dublin[\"dep_time_ut\"] >= \"2016-12-12 08:00:00\") & (temporal_dublin[\"dep_time_ut\"] < \"2016-12-12 09:00:00\")]) #selecting timespan: 8am-9am\n",
        "print(\"dublin 89:\",connections_dublin89 )\n",
        "\n",
        "connections_dublin1112 = len(temporal_dublin[(temporal_dublin[\"dep_time_ut\"] >= \"2016-12-12 11:00:00\") & (temporal_dublin[\"dep_time_ut\"] < \"2016-12-12 12:00:00\")]) #selecting timespan: 11am-12am\n",
        "print(\"dublin 1112:\",connections_dublin1112 )\n",
        "\"\"\"\n",
        "\"\"\"\n",
        "temporal_adelaide[\"dep_time_ut\"] = pd.to_datetime(temporal_adelaide[\"dep_time_ut\"], unit = \"s\") #transforms Unix timestamp to datetime\n",
        "temporal_adelaide[\"arr_time_ut\"] = pd.to_datetime(temporal_adelaide[\"arr_time_ut\"], unit = \"s\") #ransforms Unix timestamp to  datetime\n",
        "temporal_adelaide[\"dep_time_ut\"] += pd.to_timedelta(10.5, unit='h') #UTC+10:30h  https://www.timeanddate.com/time/zone/australia/adelaide\n",
        "temporal_adelaide[\"arr_time_ut\"] += pd.to_timedelta(10.5, unit='h') #UTC+10:30h   https://www.timeanddate.com/time/zone/australia/adelaide\n",
        "connections_adelaide89 = len(temporal_adelaide[(temporal_adelaide[\"dep_time_ut\"] >= \"2016-12-12 08:00:00\") & (temporal_adelaide[\"dep_time_ut\"] < \"2016-12-12 09:00:00\")]) #selecting timespan: 8am-9am\n",
        "print(\"adelaide 89:\",connections_adelaide89 )\n",
        "\n",
        "connections_adelaide1112 = len(temporal_adelaide[(temporal_adelaide[\"dep_time_ut\"] >= \"2016-12-12 11:00:00\") & (temporal_adelaide[\"dep_time_ut\"] < \"2016-12-12 12:00:00\")]) #selecting timespan: 8am-9am\n",
        "print(\"adelaide 1112:\",connections_adelaide1112 )\n",
        "\"\"\"\n",
        "\"\"\"\n",
        "temporal_rome[\"dep_time_ut\"] = pd.to_datetime(temporal_rome[\"dep_time_ut\"], unit = \"s\") #transforms Unix timestamp to datetime\n",
        "temporal_rome[\"arr_time_ut\"] = pd.to_datetime(temporal_rome[\"arr_time_ut\"], unit = \"s\") #ransforms Unix timestamp to  datetime\n",
        "temporal_rome[\"dep_time_ut\"] += pd.to_timedelta(1, unit='h') #UTC+1h  https://www.timeanddate.com/time/zone/italy/rome\n",
        "temporal_rome[\"arr_time_ut\"] += pd.to_timedelta(1, unit='h') #UTC+1h  https://www.timeanddate.com/time/zone/italy/rome\n",
        "connections_rome89 = len(temporal_rome[(temporal_rome[\"dep_time_ut\"] >= \"2017-11-06 08:00:00\") & (temporal_rome[\"dep_time_ut\"] < \"2017-11-06 09:00:00\")]) #selecting timespan: 8am-9am\n",
        "print(\"rome 89:\",connections_rome89 )\n",
        "\n",
        "connections_rome1112 = len(temporal_rome[(temporal_rome[\"dep_time_ut\"] >= \"2017-11-06 11:00:00\") & (temporal_rome[\"dep_time_ut\"] < \"2017-11-06 12:00:00\")]) #selecting timespan: 8am-9am\n",
        "print(\"rome 1112:\",connections_rome1112 )\n"
      ],
      "execution_count": 0,
      "outputs": []
    },
    {
      "cell_type": "markdown",
      "metadata": {
        "id": "dx7eojPKpvYg",
        "colab_type": "text"
      },
      "source": [
        "Example: table 3"
      ]
    },
    {
      "cell_type": "code",
      "metadata": {
        "id": "OWOCtuOo3vTO",
        "colab_type": "code",
        "colab": {}
      },
      "source": [
        "combined_L_rome89.loc[[1,47,43]]"
      ],
      "execution_count": 0,
      "outputs": []
    },
    {
      "cell_type": "markdown",
      "metadata": {
        "id": "h14NYVVErCkM",
        "colab_type": "text"
      },
      "source": [
        "Table 5"
      ]
    },
    {
      "cell_type": "code",
      "metadata": {
        "id": "WJRrF9DBr-o5",
        "colab_type": "code",
        "colab": {}
      },
      "source": [
        "combined_P_rome1112.sort_values(\"from_stop_I\")"
      ],
      "execution_count": 0,
      "outputs": []
    },
    {
      "cell_type": "markdown",
      "metadata": {
        "id": "eABLsDzq1Nwf",
        "colab_type": "text"
      },
      "source": [
        "Table 6"
      ]
    },
    {
      "cell_type": "code",
      "metadata": {
        "id": "ZFAOzXyPyKP0",
        "colab_type": "code",
        "colab": {}
      },
      "source": [
        "combined_P_rome1112_sn_weight.loc[[143578, 110595, 0, 72067, 118635]]"
      ],
      "execution_count": 0,
      "outputs": []
    },
    {
      "cell_type": "markdown",
      "metadata": {
        "id": "buFzNgjlCQDz",
        "colab_type": "text"
      },
      "source": [
        "Table 7"
      ]
    },
    {
      "cell_type": "code",
      "metadata": {
        "id": "UTqzvS-tCPCe",
        "colab_type": "code",
        "colab": {}
      },
      "source": [
        "rome_1112_gtc = pd.read_csv(DATA_PATH + \"/rome1112_final_gtc.csv\", sep=\",\")\n",
        "rome_1112_gtc = rome_1112_gtc.set_index(\"Unnamed: 0\")\n",
        "rome_1112_gtc.index.name = None\n",
        "rome_1112_gtc"
      ],
      "execution_count": 0,
      "outputs": []
    },
    {
      "cell_type": "markdown",
      "metadata": {
        "id": "9lvHFaNq7HMn",
        "colab_type": "text"
      },
      "source": [
        "Figure 2: Maps of multimodal public transport system"
      ]
    },
    {
      "cell_type": "code",
      "metadata": {
        "id": "RY9VWx5wTR6r",
        "colab_type": "code",
        "colab": {}
      },
      "source": [
        "r_stops_map = r_stops_geojson.to_crs(epsg=3857)\n",
        "r_routes_map = r_routes_geojson.to_crs(epsg = 3857)\n",
        "r_sections_map = r_sections_geojson.to_crs(epsg=3857)\n",
        "r_sections_rail = r_sections_map[r_sections_map[\"route_type\"]==2]\n",
        "r_sections_tram = r_sections_map[r_sections_map[\"route_type\"]==0]\n",
        "r_sections_subway = r_sections_map[r_sections_map[\"route_type\"]==1]\n",
        "r_sections_bus = r_sections_map[r_sections_map[\"route_type\"]==3]\n",
        "\n",
        "a_stops_map = a_stops_geojson.to_crs(epsg=3857)\n",
        "a_routes_map = a_routes_geojson.to_crs(epsg = 3857)\n",
        "a_sections_map = a_sections_geojson.to_crs(epsg=3857)\n",
        "a_sections_rail = a_sections_map[a_sections_map[\"route_type\"]==2]\n",
        "a_sections_tram = a_sections_map[a_sections_map[\"route_type\"]==0]\n",
        "a_sections_bus = a_sections_map[a_sections_map[\"route_type\"]==3]\n",
        "\n",
        "d_stops_map = d_stops_geojson.to_crs(epsg=3857)\n",
        "d_routes_map = d_routes_geojson.to_crs(epsg = 3857)\n",
        "d_sections_map = d_sections_geojson.to_crs(epsg=3857)\n",
        "d_sections_rail = d_sections_map[d_sections_map[\"route_type\"]==2]\n",
        "d_sections_tram = d_sections_map[d_sections_map[\"route_type\"]==0]\n",
        "d_sections_bus = d_sections_map[d_sections_map[\"route_type\"]==3]\n",
        "\n",
        "\n",
        "fig = fig = plt.figure(figsize = (24, 24))\n",
        "a_ax = plt.subplot2grid((24, 24), (0, 0), rowspan = 8, colspan= 8)\n",
        "d_ax = plt.subplot2grid((24, 24), (0, 8), rowspan = 8, colspan= 8)\n",
        "r_ax = plt.subplot2grid((24, 24), (0, 16), rowspan = 8, colspan= 8)\n",
        "\n",
        "a_sections_rail.plot(ax=a_ax, label = \"rail\", zorder = 1, linewidth = 1, color = \"red\")\n",
        "a_sections_tram.plot(ax=a_ax, label = \"tram\", zorder = 3, linewidth = 2, color = \"green\")\n",
        "a_sections_bus.plot(ax=a_ax, label = \"bus\", zorder = 2, linewidth = 1, color = \"blue\")\n",
        "a_ax.legend()\n",
        "a_ax.set_title(\"Adelaide\", size = \"x-large\", weight = \"bold\")\n",
        "a_ax.axis('off')\n",
        "\n",
        "d_sections_rail.plot(ax=d_ax, label = \"rail\", zorder = 1, linewidth = 1, color = \"red\")\n",
        "d_sections_tram.plot(ax=d_ax, label = \"tram\", zorder = 3, linewidth = 2, color = \"green\")\n",
        "d_sections_bus.plot(ax=d_ax, label = \"bus\", zorder = 2, linewidth = 1, color = \"blue\")\n",
        "d_ax.legend()\n",
        "d_ax.set_title(\"Dublin\", size = \"x-large\", weight = \"bold\")\n",
        "d_ax.axis('off')\n",
        "\n",
        "r_sections_rail.plot(ax=r_ax, label = \"rail\", zorder = 1, linewidth = 1, color = \"red\")\n",
        "r_sections_subway.plot(ax=r_ax, label = \"subway\", zorder = 4, linewidth = 2, color = \"orange\")\n",
        "r_sections_tram.plot(ax=r_ax, label = \"tram\", zorder = 3, linewidth = 2, color = \"green\")\n",
        "r_sections_bus.plot(ax=r_ax, label = \"bus\", zorder = 2, linewidth = 1, color = \"blue\")\n",
        "r_ax.legend()\n",
        "r_ax.set_title(\"Rome\", size = \"x-large\", weight = \"bold\")\n",
        "r_ax.axis('off')\n",
        "\n",
        "ctx.add_basemap(r_ax)\n",
        "ctx.add_basemap(d_ax)\n",
        "ctx.add_basemap(a_ax)\n",
        "\n",
        "\n"
      ],
      "execution_count": 0,
      "outputs": []
    },
    {
      "cell_type": "markdown",
      "metadata": {
        "id": "WLy-chAFwFpb",
        "colab_type": "text"
      },
      "source": [
        "Table 9: Number of nodes per public transport network per network"
      ]
    },
    {
      "cell_type": "code",
      "metadata": {
        "id": "W6_Sj13KDm9w",
        "colab_type": "code",
        "colab": {}
      },
      "source": [
        "def count_stops_per_mode(P_space):\n",
        "  \"\"\"\n",
        "  This code computes a list per mode of transport with corresponding stops and \n",
        "    a pd.dataframe with the count per mode\n",
        "  Input: P-space networkx Graph\n",
        "  Returns: pd.DataFrame with count per mode of transport and a list per mode of transport\n",
        "  \"\"\"\n",
        "  count_tram = 0\n",
        "  list_tram = []\n",
        "  count_subway = 0\n",
        "  list_subway = []\n",
        "  count_rail = 0\n",
        "  list_rail = []\n",
        "  count_bus = 0\n",
        "  list_bus = []\n",
        "  for row in P_space.itertuples():\n",
        "    if row[8] == 0:\n",
        "      if row[1] not in list_tram:\n",
        "        list_tram.append(row[1])\n",
        "        count_tram += 1\n",
        "      if row[2] not in list_tram:\n",
        "        list_tram.append(row[2])\n",
        "        count_tram += 1\n",
        "    elif row[8] == 1:\n",
        "      if row[1] not in list_subway:\n",
        "        list_subway.append(row[1])\n",
        "        count_subway += 1\n",
        "      if row[2] not in list_subway:\n",
        "        list_subway.append(row[2])\n",
        "        count_subway += 1\n",
        "    elif row[8] == 2:\n",
        "      if row[1] not in list_rail:\n",
        "        list_rail.append(row[1])\n",
        "        count_rail += 1\n",
        "      if row[2] not in list_rail:\n",
        "        list_rail.append(row[2])\n",
        "        count_rail += 1\n",
        "    elif row[8] == 3:\n",
        "      if row[1] not in list_bus:\n",
        "        list_bus.append(row[1])\n",
        "        count_bus += 1\n",
        "      if row[2] not in list_bus:\n",
        "        list_bus.append(row[2])\n",
        "        count_bus += 1\n",
        "  count_df = pd.DataFrame ({\"tram_nodes\": count_tram, \"subway_nodes\": count_subway,\n",
        "                            \"rail_nodes\": count_rail, \"bus_nodes\": count_bus}, \n",
        "                           index = [\"count\"])\n",
        "  return count_df, list_tram, list_subway, list_rail, list_bus\n",
        "    "
      ],
      "execution_count": 0,
      "outputs": []
    },
    {
      "cell_type": "code",
      "metadata": {
        "id": "yw7HvcbN6Ohv",
        "colab_type": "code",
        "colab": {}
      },
      "source": [
        "combined_P_dublin89_sn_weight = combined_P_dublin89_sn_weight[[\"source\", \"target\", \"frequency\", \"weight\", \"waiting_time\", \"travel_time\", \"route_I\", \"route_type\"]]\n",
        "combined_P_dublin1112_sn_weight = combined_P_dublin1112_sn_weight[[\"source\", \"target\", \"frequency\", \"weight\", \"waiting_time\", \"travel_time\", \"route_I\", \"route_type\"]]\n",
        "combined_P_adelaide89_sn_weight = combined_P_adelaide89_sn_weight[[\"source\", \"target\", \"frequency\", \"weight\", \"waiting_time\", \"travel_time\", \"route_I\", \"route_type\"]]\n",
        "combined_P_adelaide1112_sn_weight = combined_P_adelaide1112_sn_weight[[\"source\", \"target\", \"frequency\", \"weight\", \"waiting_time\", \"travel_time\", \"route_I\",  \"route_type\"]]"
      ],
      "execution_count": 0,
      "outputs": []
    },
    {
      "cell_type": "code",
      "metadata": {
        "id": "9xuzg67eydm_",
        "colab_type": "code",
        "colab": {}
      },
      "source": [
        "rome89_count_df, rome89_list_tram, rome89_list_subway, rome89_list_rail, rome89_list_bus = count_stops_per_mode(combined_P_rome89_sn_weight)\n",
        "rome1112_count_df, rome1112_list_tram, rome1112_list_subway, rome1112_list_rail, rome1112_list_bus = count_stops_per_mode(combined_P_rome1112_sn_weight)\n",
        "dublin89_count_df, dublin89_list_tram, dublin89_list_subway, dublin89_list_rail, dublin89_list_bus = count_stops_per_mode(combined_P_dublin89_sn_weight)\n",
        "dublin1112_count_df, dublin1112_list_tram, dublin1112_list_subway, dublin1112_list_rail, dublin1112_list_bus = count_stops_per_mode(combined_P_dublin1112_sn_weight)\n",
        "adelaide89_count_df, adelaide89_list_tram, adelaide89_list_subway, adelaide89_list_rail, adelaide89_list_bus = count_stops_per_mode(combined_P_adelaide89_sn_weight)\n",
        "adelaide1112_count_df, adelaide1112_list_tram, adelaide1112_list_subway, adelaide1112_list_rail, adelaide1112_list_bus = count_stops_per_mode(combined_P_adelaide1112_sn_weight)"
      ],
      "execution_count": 0,
      "outputs": []
    },
    {
      "cell_type": "markdown",
      "metadata": {
        "id": "wjCo46r99IC3",
        "colab_type": "text"
      },
      "source": [
        "Table 9: Topological features "
      ]
    },
    {
      "cell_type": "code",
      "metadata": {
        "id": "e4dVlLwDLvCh",
        "colab_type": "code",
        "colab": {}
      },
      "source": [
        "rome_89_P_graph = nx.from_pandas_edgelist(combined_P_rome89_sn_weight, source = \"source\", target = \"target\", \n",
        "            edge_attr = [\"route_I\", \"route_type\", \"frequency\", \"travel_time\", \"waiting_time\", \"weight\"], create_using = nx.MultiGraph())\n",
        "\n",
        "rome_1112_P_graph = nx.from_pandas_edgelist(combined_P_rome1112_sn_weight, source = \"source\", target = \"target\", \n",
        "            edge_attr = [\"route_I\", \"route_type\", \"frequency\", \"travel_time\", \"waiting_time\", \"weight\"], create_using = nx.MultiGraph())\n",
        "\n",
        "dublin_89_P_graph = nx.from_pandas_edgelist(combined_P_dublin89_sn_weight, source = \"source\", target = \"target\", \n",
        "            edge_attr = [\"route_I\", \"route_type\", \"frequency\", \"travel_time\", \"waiting_time\", \"weight\"], create_using = nx.MultiGraph())\n",
        "dublin_1112_P_graph = nx.from_pandas_edgelist(combined_P_dublin1112_sn_weight, source = \"source\", target = \"target\", \n",
        "            edge_attr = [\"route_I\", \"route_type\", \"frequency\", \"travel_time\", \"waiting_time\", \"weight\"], create_using = nx.MultiGraph())\n",
        "\n",
        "adelaide_89_P_graph = nx.from_pandas_edgelist(combined_P_adelaide89_sn_weight, source = \"source\", target = \"target\", \n",
        "            edge_attr = [\"route_I\", \"route_type\", \"frequency\", \"travel_time\", \"waiting_time\", \"weight\"], create_using = nx.MultiGraph())\n",
        "adelaide_1112_P_graph = nx.from_pandas_edgelist(combined_P_adelaide1112_sn_weight, source = \"source\", target = \"target\", \n",
        "            edge_attr = [\"route_I\", \"route_type\", \"frequency\", \"travel_time\", \"waiting_time\", \"weight\"], create_using = nx.MultiGraph())\n"
      ],
      "execution_count": 0,
      "outputs": []
    },
    {
      "cell_type": "code",
      "metadata": {
        "id": "SFx9S4ptI7hE",
        "colab_type": "code",
        "colab": {}
      },
      "source": [
        "def connected_component_subgraphs(G):\n",
        "  \"\"\"\n",
        "  This function selects the connected components in a graph\n",
        "  \"\"\"\n",
        "  for c in nx.connected_components(G):\n",
        "      yield G.subgraph(c)\n",
        "\n",
        "def subgraph_check(G):\n",
        "  \"\"\"\n",
        "  This function puts the nodes and edges of the subgraphs into dictionaries.\n",
        "  Furthermore, this function prints the number of nodes and edges per subgraph\n",
        "  Input: nx.Graph\n",
        "  Returns: two dictionaries. First consists of subgraphs and corresponding nodes.\n",
        "  Second consists of subgraphs and corresponding edges.\n",
        "  \"\"\"\n",
        "  count = 1\n",
        "  subgraph_nodes_dict = dict()\n",
        "  subgraph_edges_dict = dict()\n",
        "  for g in connected_component_subgraphs(G):\n",
        "    print(\"number of nodes {}:\".format(count), g.number_of_nodes())\n",
        "    nodes_list = list(g.nodes)\n",
        "    subgraph_nodes_dict[count] = nodes_list\n",
        "    print(\"number of edges {}:\".format(count), g.number_of_edges())\n",
        "    edges_list = list(g.nodes)\n",
        "    subgraph_edges_dict[count] = edges_list = list(g.nodes)\n",
        "    count += 1\n",
        "  return subgraph_nodes_dict, subgraph_edges_dict"
      ],
      "execution_count": 0,
      "outputs": []
    },
    {
      "cell_type": "code",
      "metadata": {
        "id": "JDW7yOQIJwgE",
        "colab_type": "code",
        "colab": {}
      },
      "source": [
        "#Get nodes and edges in P-space per connected component\n",
        "print(\"adelaide 8-9\")\n",
        "adelaide98_P_nodes, adelaide98_P_edges = subgraph_check(adelaide_89_P_graph)\n",
        "print(\"adelaide 11-12\")\n",
        "adelaide1112_P_nodes, adelaide98_P_edges = subgraph_check(adelaide_1112_P_graph)\n",
        "print(\"dublin 8-9\")\n",
        "dublin98_P_nodes, dublin98_P_edges = subgraph_check(dublin_89_P_graph)\n",
        "print(\"dublin 11-12\")\n",
        "dublin1112_P_nodes, dublin1112_P_edges = subgraph_check(dublin_1112_P_graph)\n",
        "print(\"rome 8-9\")\n",
        "rome98_P_nodes, rome98_P_edges = subgraph_check(rome_89_P_graph)\n",
        "print(\"rome 11-12\")\n",
        "rome1112_P_nodes, rome1112_P_edges = subgraph_check(rome_1112_P_graph)"
      ],
      "execution_count": 0,
      "outputs": []
    },
    {
      "cell_type": "code",
      "metadata": {
        "id": "aL5xtXsfORkX",
        "colab_type": "code",
        "colab": {}
      },
      "source": [
        "#Mean degree L-space: k = 2m/n \n",
        "print(\"L-space\")\n",
        "print(\"Mean degree Adelaide 8-9:\", (2*6109)/4776)\n",
        "print(\"Mean degree Adelaide 11-12:\", (2*5712)/4623)\n",
        "print(\"Mean degree Dublin 8-9:\", (2*3980)/2937)\n",
        "print(\"Mean degree Dublin 11-12:\", (2*3823)/2881)\n",
        "print(\"Mean degree Rome 8-9:\", (2*7723)/5424)\n",
        "print(\"Mean degree Rome 11-12:\", (2*7694)/5409)\n",
        "print(\"P-space\")\n",
        "print(\"Mean degree Adelaide 8-9:\", (2*355162)/4776)\n",
        "print(\"Mean degree Adelaide 11-12:\", (2*329162)/4623)\n",
        "print(\"Mean degree Dublin 8-9:\", (2*242313)/2937)\n",
        "print(\"Mean degree Dublin 11-12:\", (2*230945)/2881)\n",
        "print(\"Mean degree Rome 8-9:\", (2*223825)/5424)\n",
        "print(\"Mean degree Rome 11-12:\", (2*222285)/5409)"
      ],
      "execution_count": 0,
      "outputs": []
    },
    {
      "cell_type": "code",
      "metadata": {
        "id": "S5Pd_0ahUP37",
        "colab_type": "code",
        "colab": {}
      },
      "source": [
        "#Giant connected component\n",
        "print(\"GCC Adelaide 8-9:\", len(max(nx.connected_components(combined_L_adelaide89_graph_sn), key=len)))\n",
        "print(\"GCC Adelaide 11-12:\", len(max(nx.connected_components(combined_L_adelaide1112_graph_sn), key=len)))\n",
        "print(\"GCC Dublin 8-9:\", len(max(nx.connected_components(combined_L_dublin89_graph_sn), key=len)))\n",
        "print(\"GCC Dublin 11-12:\", len(max(nx.connected_components(combined_L_dublin1112_graph_sn), key=len)))\n",
        "print(\"GCC Rome 8-9:\", len(max(nx.connected_components(combined_L_rome89_graph_sn), key=len)))\n",
        "print(\"GCC Rome 11-12:\", len(max(nx.connected_components(combined_L_rome1112_graph_sn), key=len)))"
      ],
      "execution_count": 0,
      "outputs": []
    },
    {
      "cell_type": "code",
      "metadata": {
        "id": "E-aggmGWbf04",
        "colab_type": "code",
        "colab": {}
      },
      "source": [
        "#Average shortest path length\n",
        "for C in (combined_L_adelaide89_graph_sn.subgraph(c).copy() for c in nx.connected_components(combined_L_adelaide89_graph_sn)):\n",
        "     print(\"Average SP Adelaide 8-9:\", nx.average_shortest_path_length(C))\n",
        "     \n",
        "\n",
        "for C in (combined_L_adelaide1112_graph_sn.subgraph(c).copy() for c in nx.connected_components(combined_L_adelaide1112_graph_sn)):\n",
        "     print(\"Average SP Adelaide 11-12:\", nx.average_shortest_path_length(C))\n",
        "    \n",
        "print(\"Average SP Dublin 8-9:\", nx.average_shortest_path_length(combined_L_dublin89_graph_sn))\n",
        "print(\"Average SP Dublin 11-12:\", nx.average_shortest_path_length(combined_L_dublin1112_graph_sn))\n",
        "\n",
        "for C in (combined_L_rome89_graph_sn.subgraph(c).copy() for c in nx.connected_components(combined_L_rome89_graph_sn)):\n",
        "     print(\"Average SP Rome 8-9:\", nx.average_shortest_path_length(C))\n",
        "\n",
        "for C in (combined_L_rome1112_graph_sn.subgraph(c).copy() for c in nx.connected_components(combined_L_rome1112_graph_sn)):\n",
        "     print(\"Average SP Rome 11-12:\", nx.average_shortest_path_length(C))\n",
        "     "
      ],
      "execution_count": 0,
      "outputs": []
    },
    {
      "cell_type": "code",
      "metadata": {
        "id": "u6U8g3xYin3I",
        "colab_type": "code",
        "colab": {}
      },
      "source": [
        "#Random average shortest path length\n",
        "print(\"random Adelaide 8-9:\", (np.log(4712)-0.5772)/(np.log(2.56)+0.5))\n",
        "print(\"random Adelaide 11-12:\", (np.log(4559)-0.5772)/(np.log(2.48)+0.5))\n",
        "print(\"random Dublin 8-9:\", (np.log(2937)-0.5772)/(np.log(2.71)+0.5))\n",
        "print(\"random Dublin 11-12:\", (np.log(2881)-0.5772)/(np.log(2.65)+0.5))\n",
        "print(\"random Rome 8-9:\", (np.log(5398)-0.5772)/(np.log(2.85)+0.5))\n",
        "print(\"random Rome 11-12:\", (np.log(5376)-0.5772)/(np.log(2.85)+0.5))"
      ],
      "execution_count": 0,
      "outputs": []
    },
    {
      "cell_type": "code",
      "metadata": {
        "id": "mtvTQQU2lEut",
        "colab_type": "code",
        "colab": {}
      },
      "source": [
        "#Measure of efficiency in terms of path length\n",
        "print(\"Adelaide 8-9:\", 24.091359347897615/5.472658334783038)\n",
        "print(\"Adelaide 11-12:\", 33.647889919894794/5.572597818420292)\n",
        "print(\"Dublin 8-9:\", 23.646986813918815/4.948696139954736)\n",
        "print(\"Dublin 11-12:\", 30.392837411778316/5.010779174109157)\n",
        "print(\"Rome 8-9:\", 25.76123603585569/5.180950937208225)\n",
        "print(\"Rome 11-12:\", 26.094689645625692/5.178311590447757)"
      ],
      "execution_count": 0,
      "outputs": []
    },
    {
      "cell_type": "code",
      "metadata": {
        "id": "hZBl6cvRn70q",
        "colab_type": "code",
        "colab": {}
      },
      "source": [
        "#Diameter\n",
        "for C in (combined_L_adelaide89_graph_sn.subgraph(c).copy() for c in nx.connected_components(combined_L_adelaide89_graph_sn)):\n",
        "    print(\"Diameter Adelaide 8-9:\", nx.diameter(C))\n",
        "    \n",
        "for C in (combined_L_adelaide1112_graph_sn.subgraph(c).copy() for c in nx.connected_components(combined_L_adelaide1112_graph_sn)):\n",
        "    print(\"Diameter Adelaide 11-12:\", nx.diameter(C))\n",
        "    \n",
        "print(\"Diameter Dublin 8-9:\", nx.diameter(combined_L_dublin89_graph_sn))\n",
        "print(\"Diameter Dublin 11-12:\", nx.diameter(combined_L_dublin1112_graph_sn))\n",
        "\n",
        "for C in (combined_L_rome89_graph_sn.subgraph(c).copy() for c in nx.connected_components(combined_L_rome89_graph_sn)):\n",
        "    print(\"Diameter Rome 8-9:\", nx.diameter(C))\n",
        "\n",
        "for C in (combined_L_rome1112_graph_sn.subgraph(c).copy() for c in nx.connected_components(combined_L_rome1112_graph_sn)):\n",
        "    print(\"Diameter Rome 11-12:\", nx.diameter(C))"
      ],
      "execution_count": 0,
      "outputs": []
    }
  ]
}